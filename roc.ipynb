{
 "cells": [
  {
   "cell_type": "code",
   "execution_count": 82,
   "metadata": {},
   "outputs": [],
   "source": [
    "import numpy as np\n",
    "import pandas as pd\n",
    "import matplotlib.pyplot as plt\n",
    "from matplotlib.animation import FuncAnimation\n",
    "\n",
    "from animation import Animation\n",
    "\n",
    "from statsmodels.formula.api import logit\n",
    "import sklearn.metrics"
   ]
  },
  {
   "cell_type": "code",
   "execution_count": 85,
   "metadata": {},
   "outputs": [],
   "source": [
    "plt.ioff()\n",
    "# https://stackoverflow.com/questions/43445103/inline-animations-in-jupyter\n",
    "# plt.rcParams[\"animation.html\"] = \"jshtml\"\n",
    "# http://louistiao.me/posts/notebooks/save-matplotlib-animations-as-gifs/\n",
    "plt.rc('animation', html='html5')\n",
    "plt.rc('patch', ec='black')\n",
    "plt.rc('font', size=14)"
   ]
  },
  {
   "cell_type": "code",
   "execution_count": null,
   "metadata": {},
   "outputs": [
    {
     "name": "stdout",
     "output_type": "stream",
     "text": [
      "Optimization terminated successfully.\n",
      "         Current function value: 0.476647\n",
      "         Iterations 6\n"
     ]
    }
   ],
   "source": [
    "np.random.seed(123)\n",
    "\n",
    "n = 5000\n",
    "\n",
    "df = pd.DataFrame({'y': np.random.choice([0, 1], n)})\n",
    "df['x'] = np.where(df.y == 1, np.random.normal(10, 1, n), np.random.normal(8.5, 1, n))\n",
    "model = logit('y ~ x', df).fit()\n",
    "df['p_y'] = model.predict()\n",
    "\n",
    "fpr, tpr, thresholds = sklearn.metrics.roc_curve(df.y, df.p_y)\n",
    "metrics = pd.DataFrame({\n",
    "    'fpr': fpr,\n",
    "    'tpr': tpr,\n",
    "    'threshold': thresholds\n",
    "}).sort_values(by='threshold').reset_index(drop=True)\n",
    "\n",
    "fig, (ax1, ax2) = plt.subplots(1, 2, figsize=(16, 9))\n",
    "\n",
    "ax1.hist(df[df.y == 0].p_y, label='0', ec='black', bins=25, alpha=.6)\n",
    "ax1.hist(df[df.y == 1].p_y, label='1', ec='black', bins=25, alpha=.6)\n",
    "ax1.legend(title='y =')\n",
    "vline = ax1.vlines(0, *ax1.get_ylim(), lw=2)\n",
    "ax1.set(ylabel='frequency', xlabel='$P(y = 1)$', title='P(y = 1) by actual y value')\n",
    "\n",
    "lines, = ax2.plot([], [], ls=':', marker='.')\n",
    "ax2.set(title='ROC Curve', xlabel='FPR', ylabel='TPR')\n",
    "\n",
    "text = ax1.annotate(\n",
    "    'Threshold',\n",
    "    (0, ax1.get_ylim()[1] * .8),\n",
    "    xytext=(.5, ax1.get_ylim()[1] * .9),\n",
    "    arrowprops={'arrowstyle': '->'}\n",
    ")\n",
    "\n",
    "def animate(i):\n",
    "    if i >= metrics.shape[0]:\n",
    "        return\n",
    "    global text\n",
    "    row = metrics.iloc[i]\n",
    "    text.remove()\n",
    "    text = ax1.annotate(\n",
    "        'Threshold',\n",
    "        (row.threshold, ax1.get_ylim()[1] * .8),\n",
    "        xytext=(.5, ax1.get_ylim()[1] * .9),\n",
    "        arrowprops={'arrowstyle': '->'}\n",
    "    )\n",
    "    vline.set_paths((np.array([[row.threshold, 0], [row.threshold, 160]]), ))\n",
    "    lines.set_data(metrics.fpr[:i], metrics.tpr[:i])\n",
    "\n",
    "anim = FuncAnimation(fig, animate, interval=1000/30, frames=metrics.shape[0] * 2)\n",
    "anim"
   ]
  }
 ],
 "metadata": {
  "kernelspec": {
   "display_name": "Python 3",
   "language": "python",
   "name": "python3"
  },
  "language_info": {
   "codemirror_mode": {
    "name": "ipython",
    "version": 3
   },
   "file_extension": ".py",
   "mimetype": "text/x-python",
   "name": "python",
   "nbconvert_exporter": "python",
   "pygments_lexer": "ipython3",
   "version": "3.7.3"
  }
 },
 "nbformat": 4,
 "nbformat_minor": 2
}
